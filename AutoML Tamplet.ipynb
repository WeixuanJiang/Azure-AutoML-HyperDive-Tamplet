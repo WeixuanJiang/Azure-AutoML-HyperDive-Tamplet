{
 "cells": [
  {
   "cell_type": "code",
   "execution_count": null,
   "id": "biological-former",
   "metadata": {},
   "outputs": [],
   "source": [
    "import ComputeTarget\n",
    "import WorkSpace\n",
    "# get workspace details\n",
    "# download your config.json to current directory\n",
    "ws = ComputeTarget.get_confit()\n",
    "# if you do not have resource group and machine learning workspace created \n",
    "# uncomment below to create new one\n",
    "\n",
    "# subscription_id = '<your subscription_id>'\n",
    "# resource_group = '<your resource group name>'\n",
    "# workspace_name = '<your workspace name>'\n",
    "# ws = WorkSpace(subscription_id,resource_group,workspace_name)\n",
    "\n",
    "# create experiment\n",
    "# define your experiment name\n",
    "experiment_name = 'exp_demo_2'\n",
    "exp = ComputeTarget.create_experiment(experiment_name,ws)\n",
    "# create compute target\n",
    "compute_target = ComputeTarget.compute_target(ws,\n",
    "                                              compute_name='cpu-cluster-1',\n",
    "                                              vm_size=\"STANDARD_D2_V2\",\n",
    "                                              compute_min_nodes=0,\n",
    "                                              compute_max_nodes=4)"
   ]
  },
  {
   "cell_type": "code",
   "execution_count": null,
   "id": "respiratory-notification",
   "metadata": {},
   "outputs": [],
   "source": [
    "# get dataset\n",
    "from azureml.data.dataset_factory import TabularDatasetFactory\n",
    "from sklearn.model_selection import train_test_split\n",
    "from azureml.train.automl import AutoMLConfig\n",
    "from train import clean_data\n",
    "link = '<your local path or url to your dataset>'\n",
    "dataset = TabularDatasetFactory.from_delimited_files(path=link)\n",
    "# clean your data\n",
    "# you need code your own data cleansing process in the data_preprocessing.py\n",
    "x,y = clean_data(dataset)\n",
    "xtrain,xtest,ytrain,ytest = train_test_split(x,y,test_size=0.2,random_state=1)\n",
    "train = pd.concat([xtrain,ytrain]).to_csv('./train/train.csv')\n",
    "validation = pd.concat([xtest,ytest]).to_csv('./val/val.csv')\n",
    "train_data = TabularDatasetFactory.from_delimited_files('./train/train.csv')\n",
    "val_data = TabularDatasetFactory.from_delimited_files('./train/train.csv')\n",
    "\n",
    "# Set parameters for AutoMLConfig\n",
    "automl_config = AutoMLConfig(\n",
    "    training_data=train_data,\n",
    "    validation_data = val_data,\n",
    "    # label_column_name is class label name in the dataset\n",
    "    label_column_name='<class label name>',\n",
    "    experiment_timeout_minutes=30,\n",
    "    compute_target=compute_target,\n",
    "    task='classification',\n",
    "    primary_metric='accuracy',\n",
    "    n_cross_validations=5,\n",
    "    enable_onnx_compatible_models=True,\n",
    "    iterations=20)\n",
    "\n",
    "# Submit your automl run\n",
    "remote_run = exp.submit(automl_config, show_output = True"
   ]
  },
  {
   "cell_type": "code",
   "execution_count": null,
   "id": "twenty-junction",
   "metadata": {},
   "outputs": [],
   "source": [
    "# Retrieve and save your best automl model.\n",
    "\n",
    "# Get your best run and save the model from that run.\n",
    "if \"outputs\" not in os.listdir():\n",
    "    os.mkdir(\"./outputs\")\n",
    "    \n",
    "best_run, automl_model = remote_run.get_output()\n",
    "joblib.dump(automl_model, './outputs/automl_model.joblib')"
   ]
  },
  {
   "cell_type": "code",
   "execution_count": null,
   "id": "about-hobby",
   "metadata": {},
   "outputs": [],
   "source": [
    "# clean up resources\n",
    "compute_target.delete()\n",
    "print('Compute target deleted')"
   ]
  },
  {
   "cell_type": "code",
   "execution_count": null,
   "id": "lesbian-soldier",
   "metadata": {},
   "outputs": [],
   "source": []
  }
 ],
 "metadata": {
  "kernelspec": {
   "display_name": "Python 3",
   "language": "python",
   "name": "python3"
  },
  "language_info": {
   "codemirror_mode": {
    "name": "ipython",
    "version": 3
   },
   "file_extension": ".py",
   "mimetype": "text/x-python",
   "name": "python",
   "nbconvert_exporter": "python",
   "pygments_lexer": "ipython3",
   "version": "3.8.5"
  }
 },
 "nbformat": 4,
 "nbformat_minor": 5
}
