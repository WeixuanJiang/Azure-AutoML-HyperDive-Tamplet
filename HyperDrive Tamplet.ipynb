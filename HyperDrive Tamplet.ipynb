{
 "cells": [
  {
   "cell_type": "code",
   "execution_count": 1,
   "id": "outer-appointment",
   "metadata": {},
   "outputs": [],
   "source": [
    "import ComputeTarget\n",
    "import WorkSpace"
   ]
  },
  {
   "cell_type": "code",
   "execution_count": null,
   "id": "dying-liquid",
   "metadata": {},
   "outputs": [],
   "source": [
    "# get workspace details\n",
    "# download your config.json to current directory\n",
    "ws = ComputeTarget.get_confit()\n",
    "# if you do not have resource group and machine learning workspace created \n",
    "# uncomment below to create new one\n",
    "\n",
    "# subscription_id = '<your subscription_id>'\n",
    "# resource_group = '<your resource group name>'\n",
    "# workspace_name = '<your workspace name>'\n",
    "# ws = WorkSpace(subscription_id,resource_group,workspace_name)\n",
    "\n",
    "# create experiment\n",
    "# define your experiment name\n",
    "experiment_name = 'exp_demo_2'\n",
    "exp = ComputeTarget.create_experiment(experiment_name,ws)\n",
    "# create compute target\n",
    "compute_target = ComputeTarget.compute_target(ws,\n",
    "                                              compute_name='cpu-cluster-1',\n",
    "                                              vm_size=\"STANDARD_D2_V2\",\n",
    "                                              compute_min_nodes=0,\n",
    "                                              compute_max_nodes=4)"
   ]
  },
  {
   "cell_type": "code",
   "execution_count": null,
   "id": "veterinary-invalid",
   "metadata": {},
   "outputs": [],
   "source": [
    "from azureml.widgets import RunDetails\n",
    "from azureml.core.script_run_config import ScriptRunConfig\n",
    "from azureml.train.hyperdrive.run import PrimaryMetricGoal\n",
    "from azureml.train.hyperdrive.policy import BanditPolicy\n",
    "from azureml.train.hyperdrive.sampling import RandomParameterSampling\n",
    "from azureml.train.hyperdrive.runconfig import HyperDriveConfig\n",
    "from azureml.train.hyperdrive.parameter_expressions import uniform,choice\n",
    "from azureml.widgets import RunDetails\n",
    "import os\n",
    "\n",
    "# input your hyper parameters here, eg. for decision tree\n",
    "parameters = RandomParameterSampling({'--criterion':choice('gini','entropy'),\n",
    "                                     '--max_depth':uniform(3,15),\n",
    "                                     '--min_samples_split':uniform(2,10),\n",
    "                                     '--min_samples_leaf':uniform(2,10)})\n",
    "\n",
    "# create a policy for early stopping\n",
    "policy = BanditPolicy(evaluation_interval=2, slack_factor=0.1)\n",
    "\n",
    "# create a estimator from train script\n",
    "estimator = ScriptRunConfig(source_directory='.',\n",
    "                           script='train.py',\n",
    "                           compute_target=compute_target)\n",
    "\n",
    "hperdrive_config = HyperDriveConfig(estimator=estimator,\n",
    "                                    # the primary_metric_name must be same as the run.log in train.py\n",
    "                                    primary_metric_name = 'Accuracy',\n",
    "                                    primary_metric_goal=PrimaryMetricGoal.MAXIMIZE,\n",
    "                                    policy=policy,\n",
    "                                    hyperparameter_sampling = parameters\n",
    "                                    max_total_runs=10,\n",
    "                                    max_concurrent_runs = 4)\n",
    "\n",
    "# submit hyperdrive run to the experiment and show run details with the widget.\n",
    "run = exp.submit(hperdrive_config)\n",
    "RunDetails(run).show()\n",
    "run.wait_for_completion(show_output=True)"
   ]
  },
  {
   "cell_type": "code",
   "execution_count": null,
   "id": "weighted-booking",
   "metadata": {},
   "outputs": [],
   "source": [
    "import joblib\n",
    "# Get your best run and save the model from that run.\n",
    "if \"outputs\" not in os.listdir():\n",
    "    os.mkdir(\"./outputs\")\n",
    "    \n",
    "best_run = run.get_best_run_by_primary_metric()\n",
    "best_run_metrics = best_run.get_metrics()\n",
    "parameter_values = best_run.get_details()['runDefinition']\n",
    "print(\"Run ID:\",best_run.id)\n",
    "print('Metrics:',best_run_metrics['Accuracy'])\n",
    "print(best_run_metrics)\n",
    "model = best_run.register_model(model_name='DT_model',model_path='outputs/model.joblib')"
   ]
  },
  {
   "cell_type": "code",
   "execution_count": null,
   "id": "hairy-alliance",
   "metadata": {},
   "outputs": [],
   "source": [
    "# clean up resources\n",
    "compute_target.delete()\n",
    "print('Compute target deleted')"
   ]
  },
  {
   "cell_type": "code",
   "execution_count": null,
   "id": "addressed-traffic",
   "metadata": {},
   "outputs": [],
   "source": []
  }
 ],
 "metadata": {
  "kernelspec": {
   "display_name": "Python 3",
   "language": "python",
   "name": "python3"
  },
  "language_info": {
   "codemirror_mode": {
    "name": "ipython",
    "version": 3
   },
   "file_extension": ".py",
   "mimetype": "text/x-python",
   "name": "python",
   "nbconvert_exporter": "python",
   "pygments_lexer": "ipython3",
   "version": "3.8.5"
  }
 },
 "nbformat": 4,
 "nbformat_minor": 5
}
